{
 "cells": [
  {
   "cell_type": "code",
   "execution_count": 2,
   "metadata": {},
   "outputs": [
    {
     "data": {
      "application/3dmoljs_load.v0": "<div id=\"3dmolviewer_156709149601\"  style=\"position: relative; width: 500px; height: 500px\">\n        <p id=\"3dmolwarning_156709149601\" style=\"background-color:#ffcccc;color:black\">You appear to be running in JupyterLab.  You need to install the 3dmol extension: <br>\n        <tt>jupyter labextension install jupyterlab_3dmol</tt></p>\n        </div>\n<script>\n\nvar loadScriptAsync = function(uri){\n  return new Promise((resolve, reject) => {\n    var tag = document.createElement('script');\n    tag.src = uri;\n    tag.async = true;\n    tag.onload = () => {\n      resolve();\n    };\n  var firstScriptTag = document.getElementsByTagName('script')[0];\n  firstScriptTag.parentNode.insertBefore(tag, firstScriptTag);\n});\n};\n\nif(typeof $3Dmolpromise === 'undefined') {\n$3Dmolpromise = null;\n  $3Dmolpromise = loadScriptAsync('https://3dmol.csb.pitt.edu/build/3Dmol.js');\n}\n\nvar viewer_156709149601 = null;\nvar warn = document.getElementById(\"3dmolwarning_156709149601\");\nif(warn) {\n    warn.parentNode.removeChild(warn);\n}\n$3Dmolpromise.then(function() {\nviewer_156709149601 = $3Dmol.createViewer($(\"#3dmolviewer_156709149601\"),{backgroundColor:\"white\"});\n\tviewer_156709149601.addModel(\"16\\n\\nC    0.00000000  0.00000000  0.00000000\\nC    1.46106500  0.07976700 -0.46454100\\nC    2.15439700 -1.25346500 -0.36596400\\nC    1.49776300 -2.41464000 -0.22669500\\nC   -0.00305200 -2.50893100 -0.14509000\\nC   -0.68346000 -1.22046400 -0.62853300\\nH   -1.76916300 -1.24158500 -0.36835200\\nH   -0.61242700 -1.14548800 -1.74024900\\nH   -0.27817100 -2.72159400  0.91472600\\nH   -0.35521800 -3.36668800 -0.76579200\\nH    2.07045600 -3.35528000 -0.15016400\\nH    3.25647300 -1.25818400 -0.42944600\\nH    1.51536200  0.41903300 -1.52571500\\nH    2.00553900  0.82782500  0.15913400\\nH   -0.04228400 -0.09132700  1.11194500\\nH   -0.53937200  0.93846700 -0.27431200\\n\",\"xyz\");\n\tviewer_156709149601.setStyle({\"stick\": {\"colorscheme\": \"Jmol\"}});\n\tviewer_156709149601.zoomTo();\nviewer_156709149601.render();\n});\n</script>",
      "text/html": [
       "<div id=\"3dmolviewer_156709149601\"  style=\"position: relative; width: 500px; height: 500px\">\n",
       "        <p id=\"3dmolwarning_156709149601\" style=\"background-color:#ffcccc;color:black\">You appear to be running in JupyterLab.  You need to install the 3dmol extension: <br>\n",
       "        <tt>jupyter labextension install jupyterlab_3dmol</tt></p>\n",
       "        </div>\n",
       "<script>\n",
       "\n",
       "var loadScriptAsync = function(uri){\n",
       "  return new Promise((resolve, reject) => {\n",
       "    var tag = document.createElement('script');\n",
       "    tag.src = uri;\n",
       "    tag.async = true;\n",
       "    tag.onload = () => {\n",
       "      resolve();\n",
       "    };\n",
       "  var firstScriptTag = document.getElementsByTagName('script')[0];\n",
       "  firstScriptTag.parentNode.insertBefore(tag, firstScriptTag);\n",
       "});\n",
       "};\n",
       "\n",
       "if(typeof $3Dmolpromise === 'undefined') {\n",
       "$3Dmolpromise = null;\n",
       "  $3Dmolpromise = loadScriptAsync('https://3dmol.csb.pitt.edu/build/3Dmol.js');\n",
       "}\n",
       "\n",
       "var viewer_156709149601 = null;\n",
       "var warn = document.getElementById(\"3dmolwarning_156709149601\");\n",
       "if(warn) {\n",
       "    warn.parentNode.removeChild(warn);\n",
       "}\n",
       "$3Dmolpromise.then(function() {\n",
       "viewer_156709149601 = $3Dmol.createViewer($(\"#3dmolviewer_156709149601\"),{backgroundColor:\"white\"});\n",
       "\tviewer_156709149601.addModel(\"16\\n\\nC    0.00000000  0.00000000  0.00000000\\nC    1.46106500  0.07976700 -0.46454100\\nC    2.15439700 -1.25346500 -0.36596400\\nC    1.49776300 -2.41464000 -0.22669500\\nC   -0.00305200 -2.50893100 -0.14509000\\nC   -0.68346000 -1.22046400 -0.62853300\\nH   -1.76916300 -1.24158500 -0.36835200\\nH   -0.61242700 -1.14548800 -1.74024900\\nH   -0.27817100 -2.72159400  0.91472600\\nH   -0.35521800 -3.36668800 -0.76579200\\nH    2.07045600 -3.35528000 -0.15016400\\nH    3.25647300 -1.25818400 -0.42944600\\nH    1.51536200  0.41903300 -1.52571500\\nH    2.00553900  0.82782500  0.15913400\\nH   -0.04228400 -0.09132700  1.11194500\\nH   -0.53937200  0.93846700 -0.27431200\\n\",\"xyz\");\n",
       "\tviewer_156709149601.setStyle({\"stick\": {\"colorscheme\": \"Jmol\"}});\n",
       "\tviewer_156709149601.zoomTo();\n",
       "viewer_156709149601.render();\n",
       "});\n",
       "</script>"
      ]
     },
     "metadata": {},
     "output_type": "display_data"
    }
   ],
   "source": [
    "\"\"\"\n",
    "Py3Dmol install: (works in both Python2/3 conda environments)\n",
    "conda install -c rmg py3dmol \n",
    "Some Documentation: https://pypi.org/project/py3Dmol/\n",
    "3DMol.js backend: http://3dmol.csb.pitt.edu/index.html\n",
    "\"\"\"\n",
    "import py3Dmol\n",
    "\n",
    "filename = '../Substrates/cyclohexene.xyz'\n",
    "\n",
    "def view_xyz(xyz_name,w=500,h=500):\n",
    "    \"\"\"\n",
    "    Take in xyz filename and generate in-line \n",
    "    interactive molecular view.\n",
    "    More Settings/Info: \n",
    "    \"\"\"\n",
    "    view = py3Dmol.view(width=w, height=h)\n",
    "    view.addModel(open(xyz_name,'r').read(),'xyz')\n",
    "    view.setStyle({'stick':{'colorscheme':'Jmol'}})\n",
    "    view.zoomTo()\n",
    "    view.show()\n",
    "    \n",
    "view_xyz(filename)"
   ]
  }
 ],
 "metadata": {
  "kernelspec": {
   "display_name": "Python 2",
   "language": "python",
   "name": "python2"
  },
  "language_info": {
   "codemirror_mode": {
    "name": "ipython",
    "version": 2
   },
   "file_extension": ".py",
   "mimetype": "text/x-python",
   "name": "python",
   "nbconvert_exporter": "python",
   "pygments_lexer": "ipython2",
   "version": "2.7.16"
  }
 },
 "nbformat": 4,
 "nbformat_minor": 2
}
